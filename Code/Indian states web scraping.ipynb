{
 "cells": [
  {
   "cell_type": "code",
   "execution_count": 22,
   "id": "937f2d93",
   "metadata": {},
   "outputs": [],
   "source": [
    "import pandas as pd\n",
    "from bs4 import BeautifulSoup\n",
    "import requests\n",
    "import re"
   ]
  },
  {
   "cell_type": "code",
   "execution_count": 3,
   "id": "a85776cd",
   "metadata": {},
   "outputs": [],
   "source": [
    "url='https://villageinfo.in/'\n",
    "headers = {\n",
    "    \"User-Agent\": \"Mozilla/5.0 (X11; Linux x86_64; rv:60.0) Gecko/20100101 Firefox/60.0\"\n",
    "}\n",
    "page = requests.get(url, headers=headers)\n",
    "soup = BeautifulSoup(page.content, 'html.parser')"
   ]
  },
  {
   "cell_type": "code",
   "execution_count": 5,
   "id": "d48c278d",
   "metadata": {
    "scrolled": true
   },
   "outputs": [
    {
     "data": {
      "text/plain": [
       "<bound method Tag.prettify of \n",
       "<!DOCTYPE html>\n",
       "<html><head><meta content=\"text/html; charset=utf-8\" http-equiv=\"content-type\"/> <meta content=\"width=device-width, initial-scale=1\" name=\"viewport\"/> <meta content=\"Villageinfo.in provides Indian Village related information like Map, Population, PinCode etc.\" name=\"description\"/><meta content=\"indian villages, villages in india, village info, states of india, district, tehsil, village, population, map, std code, pincode\" name=\"keywords\"/> <meta name=\"google\" value=\"notranslate\"/><meta content=\"ce548e2e153e13579e5e7d4a723d39df\" name=\"verifyownership\"><meta content=\"iN63XCCRCrkfBbAxd0rmE0XLEFR9SgczBeElDCf__kQ\" name=\"google-site-verification\"><meta content=\"D583CC354CF228966F353BDBEC14520E\" name=\"msvalidate.01\"><title>Indian Village Directory | villageinfo.in</title> <link href=\"https://villageinfo.in\" rel=\"canonical\"/><style>html{box-sizing:border-box}*,:after,:before{box-sizing:inherit}body{margin:0 auto;font:14px/21px \"Helvetica Neue\",Helvetica,Arial,sans-serif;color:#333;-webkit-font-smoothing:antialiased;-webkit-text-size-adjust:80%;background:#fff}.headertop{background:#f8f8f8;border-bottom:1px solid #ebebeb;margin:0;padding-top:.4em;padding-bottom:.4em}.footerbottom{background:#f8f8f8;border-top:1px solid #ebebeb;margin:0!important;padding-top:.5em;padding-bottom:.5em}footer,header{position:relative;clear:both}.left-column,.right-column,footer{border:1px solid #ebebeb;padding:1.25em;margin:.5em}.left-column{border-radius:6px}.left-column p{line-height:24px;} header{border:1px solid #ebebeb;padding:1px 1.25em;margin:.5em;font-size:16px;font-size:1rem}.nav{list-style:none;margin-left:0;margin-bottom:0;padding-left:0;font-weight:700}.nav>li,.nav>li>a{display:inline-block;zoom:1}.inline-items{margin-top:0}.inline-items li{margin-left:0;border-left:1px solid #000;padding-left:10px;padding-right:10px}.inline-items li:first-child{margin-left:0;border:none;padding-left:0;padding-right:10px}.inline-items li:last-child{padding-right:0}@media screen and (min-width:47.5em){.columns-container{float:left}.left-column{margin-right:30em;float:left}.right-column{width:28.75em;margin-left:-29.3em;float:left}}a{text-decoration:none;color:#428bca}.google-maps{position:relative;padding-bottom:75%;height:0;overflow:hidden}.google-maps iframe{position:absolute;top:0;left:0;width:100%!important;height:100%!important}.crumbs{padding:0}.crumbs li{display:inline-block}.crumbs li:after{padding:0 .25em 0 .5em;color:#999}.crumbs li.last:after,.crumbs li.last:before{content:''}h1{line-height:1.2;text-align:center}.table{display:table;border-bottom:2px solid #ddd;margin:10px 0}.table-head{display:table-header-group}.table-head .column{background:#f5f5f5;border-right:1px solid #eee;border-bottom:none}.table-head .column:hover{background:#f9f9f9}.row{display:table-row}.row .column:nth-child(1){border-left:1px solid #eee}.row:last-child .column{border-bottom:none}.column{display:table-cell;padding:10px 20px;border-bottom:1px solid #eee;border-right:1px solid #eee}.column:hover{background:#f9f9f9}@media all and (max-width:640px){.column,.column:before,.row,.table{display:block}.row .column:last-child,.table{border-bottom:none}.table-head{position:absolute;top:-1000em;left:-1000em}.row{border:1px solid #eee;border-top:1px solid #ddd;border-bottom:1px solid #ddd;margin:20px 0}.row .column:nth-child(1){border-left:none}.row .column:last-child{border-right:none}.column,.row:last-child .column{border-bottom:1px solid #eee}.column:before{font-weight:700;padding-right:20px;font-size:12px;content:\" \"attr(data-label)\" :\"}}input.gsc-search-button,input.gsc-search-button:focus,input.gsc-search-button:hover{background-image:inherit;box-sizing:content-box}.tab span{display:inline-block;line-height:1.8em;margin-right:8px;overflow:hidden;padding:0 1px;white-space:nowrap;width:210px} @media screen and (max-width: 720px ) {.tab span {line-height:2.8em;}} p.text-justify{text-align:justify;} .vi-map{max-width:650px; max-height:500px; padding:1px; border: 1px solid #e8e8e8;} .vi-map-foot{text-align:justify; max-width:500px;} .vi-nbv{padding-left:1.8em;} .vi-nbvli{line-height:2;} .mw650{max-width:650px;} .mw720{max-width:720px;} .w100{width:100%;} .vi { border: 1px solid #ebebeb; width:100%; } .title{ background-color: #f6f6f6 !important; font-weight:bold;} .vi tr:not(:last-child)>td {border-bottom: 1px solid #ebebeb;} .vi tr:last-child>td {border-bottom: 1px solid #fff;} .vi td { background-color: #fafafa; border-radius: 2px; padding: 8px; width:50%;}.attribution{font-size:9px;color:999;margin:0px;padding:.6em 0;}</style>\n",
       "<!--[if lt IE 9]>\n",
       "<script src=\"https://villageinfo.in/common/js/html5shiv.min.js\"></script>\n",
       "<script src=\"https://villageinfo.in/common/js/respond.min.js\"></script>\n",
       "<![endif]-->\n",
       "<script type=\"text/javascript\">\n",
       "    (function(c,l,a,r,i,t,y){\n",
       "        c[a]=c[a]||function(){(c[a].q=c[a].q||[]).push(arguments)};\n",
       "        t=l.createElement(r);t.async=1;t.src=\"https://www.clarity.ms/tag/\"+i;\n",
       "        y=l.getElementsByTagName(r)[0];y.parentNode.insertBefore(t,y);\n",
       "    })(window, document, \"clarity\", \"script\", \"56qqd5893s\");\n",
       "</script>\n",
       "</meta></meta></meta></head><body> <h1 class=\"headertop\">INDIAN VILLAGE DIRECTORY</h1>\n",
       "<div class=\"columns-container\">\n",
       "<div class=\"left-column\">\n",
       "<h2>About</h2>\n",
       "<p class=\"text-justify\">India is a land of diverse cultures and traditions, and its villages form the foundation of this diversity. India is predominantly a rural country, with about 68% of its population living in villages.\n",
       "The village life in India is simple and peaceful. The villagers are self-sufficient and live a life of harmony with nature. \"<i>VillageInfo.In</i>\" is an effort to provide a one-stop source for all the information about various administrative units of india such as States, UTs, Districts, Tehsils, Villages etc. at one place on the web.\n",
       "</p>\n",
       "<br/><h3>Browse Villages by State / UT</h3>\n",
       "<div class=\"tab\"><span>1. <a href=\"/andaman-&amp;-nicobar-islands.html\">Andaman &amp; Nicobar Islands</a></span><span>2. <a href=\"/andhra-pradesh.html\">Andhra Pradesh</a></span><span>3. <a href=\"/arunachal-pradesh.html\">Arunachal Pradesh</a></span><span>4. <a href=\"/assam.html\">Assam</a></span><span>5. <a href=\"/bihar.html\">Bihar</a></span><span>6. <a href=\"/chandigarh.html\">Chandigarh</a></span><span>7. <a href=\"/chhattisgarh.html\">Chhattisgarh</a></span><span>8. <a href=\"/dadra-&amp;-nagar-haveli.html\">Dadra &amp; Nagar Haveli</a></span><span>9. <a href=\"/daman-&amp;-diu.html\">Daman &amp; Diu</a></span><span>10. <a href=\"/delhi.html\">Delhi</a></span><span>11. <a href=\"/goa.html\">Goa</a></span><span>12. <a href=\"/gujarat.html\">Gujarat</a></span><span>13. <a href=\"/haryana.html\">Haryana</a></span><span>14. <a href=\"/himachal-pradesh.html\">Himachal Pradesh</a></span><span>15. <a href=\"/jammu-&amp;-kashmir.html\">Jammu &amp; Kashmir</a></span><span>16. <a href=\"/jharkhand.html\">Jharkhand</a></span><span>17. <a href=\"/karnataka.html\">Karnataka</a></span><span>18. <a href=\"/kerala.html\">Kerala</a></span><span>19. <a href=\"/lakshadweep.html\">Lakshadweep</a></span><span>20. <a href=\"/madhya-pradesh.html\">Madhya Pradesh</a></span><span>21. <a href=\"/maharashtra.html\">Maharashtra</a></span><span>22. <a href=\"/manipur.html\">Manipur</a></span><span>23. <a href=\"/meghalaya.html\">Meghalaya</a></span><span>24. <a href=\"/mizoram.html\">Mizoram</a></span><span>25. <a href=\"/nagaland.html\">Nagaland</a></span><span>26. <a href=\"/odisha.html\">Odisha</a></span><span>27. <a href=\"/puducherry.html\">Puducherry</a></span><span>28. <a href=\"/punjab.html\">Punjab</a></span><span>29. <a href=\"/rajasthan.html\">Rajasthan</a></span><span>30. <a href=\"/sikkim.html\">Sikkim</a></span><span>31. <a href=\"/tamil-nadu.html\">Tamil Nadu</a></span><span>32. <a href=\"/telangana.html\">Telangana</a></span><span>33. <a href=\"/tripura.html\">Tripura</a></span><span>34. <a href=\"/uttar-pradesh.html\">Uttar Pradesh</a></span><span>35. <a href=\"/uttarakhand.html\">Uttarakhand</a></span><span>36. <a href=\"/west-bengal.html\">West Bengal</a></span></div><br/><br/>\n",
       "</div>\n",
       "<div class=\"right-column\">\n",
       "<script async=\"\" src=\"https://cse.google.com/cse.js?cx=d38aa614848ca41ae\"></script>\n",
       "<div class=\"gcse-searchbox-only\"></div><br/>\n",
       "<div class=\"mw720\"><table class=\"vi med\"><tbody><tr><td class=\"title\">Total Population</td><td class=\"title\">Villages in India</td></tr><tr><td>less than 200</td><td>82,151</td></tr><tr><td>200-499</td><td>1,14,732</td></tr><tr><td>500-999</td><td>1,41,800</td></tr><tr><td>1000-1999</td><td>1,39,164</td></tr><tr><td>2000-4999</td><td>96,428</td></tr><tr><td>5000-9999</td><td>18,652</td></tr><tr><td>10000 and above</td><td>4,681</td></tr></tbody></table></div>\n",
       "<br/><br/>\n",
       "</div>\n",
       "</div><footer class=\"footerbottom\">\n",
       "<p><a href=\"/\">Home</a> | <a href=\"/contact.html\">Contact Us</a> | <a href=\"/terms.html\">Terms &amp; Conditions</a> | <a href=\"/privacy.html\">Privacy Policy</a></p><p>©2023 VillageInfo.in</p>\n",
       "</footer><!-- Global site tag (gtag.js) - Google Analytics -->\n",
       "<script async=\"\" src=\"https://www.googletagmanager.com/gtag/js?id=UA-59715198-1\"></script>\n",
       "<script>\n",
       "  window.dataLayer = window.dataLayer || [];\n",
       "  function gtag(){dataLayer.push(arguments);}\n",
       "  gtag('js', new Date());\n",
       "\n",
       "  gtag('config', 'UA-59715198-1');\n",
       "</script>\n",
       "</body></html>>"
      ]
     },
     "execution_count": 5,
     "metadata": {},
     "output_type": "execute_result"
    }
   ],
   "source": [
    "soup.prettify"
   ]
  },
  {
   "cell_type": "code",
   "execution_count": 11,
   "id": "f6ffd153",
   "metadata": {
    "scrolled": false
   },
   "outputs": [],
   "source": [
    "st=soup.find('class'=='tab')\n",
    "st=st.find_all('a')"
   ]
  },
  {
   "cell_type": "code",
   "execution_count": 18,
   "id": "52b28679",
   "metadata": {},
   "outputs": [],
   "source": [
    "states=[]\n",
    "for link in st:\n",
    "    states.append('https://villageinfo.in'+link['href'])"
   ]
  },
  {
   "cell_type": "code",
   "execution_count": 19,
   "id": "1d0e8801",
   "metadata": {
    "scrolled": true
   },
   "outputs": [],
   "source": [
    "states=states[0:36]"
   ]
  },
  {
   "cell_type": "code",
   "execution_count": 21,
   "id": "c59fa3d3",
   "metadata": {
    "scrolled": true
   },
   "outputs": [
    {
     "data": {
      "text/plain": [
       "['https://villageinfo.in/andaman-&-nicobar-islands.html',\n",
       " 'https://villageinfo.in/andhra-pradesh.html',\n",
       " 'https://villageinfo.in/arunachal-pradesh.html',\n",
       " 'https://villageinfo.in/assam.html',\n",
       " 'https://villageinfo.in/bihar.html',\n",
       " 'https://villageinfo.in/chandigarh.html',\n",
       " 'https://villageinfo.in/chhattisgarh.html',\n",
       " 'https://villageinfo.in/dadra-&-nagar-haveli.html',\n",
       " 'https://villageinfo.in/daman-&-diu.html',\n",
       " 'https://villageinfo.in/delhi.html',\n",
       " 'https://villageinfo.in/goa.html',\n",
       " 'https://villageinfo.in/gujarat.html',\n",
       " 'https://villageinfo.in/haryana.html',\n",
       " 'https://villageinfo.in/himachal-pradesh.html',\n",
       " 'https://villageinfo.in/jammu-&-kashmir.html',\n",
       " 'https://villageinfo.in/jharkhand.html',\n",
       " 'https://villageinfo.in/karnataka.html',\n",
       " 'https://villageinfo.in/kerala.html',\n",
       " 'https://villageinfo.in/lakshadweep.html',\n",
       " 'https://villageinfo.in/madhya-pradesh.html',\n",
       " 'https://villageinfo.in/maharashtra.html',\n",
       " 'https://villageinfo.in/manipur.html',\n",
       " 'https://villageinfo.in/meghalaya.html',\n",
       " 'https://villageinfo.in/mizoram.html',\n",
       " 'https://villageinfo.in/nagaland.html',\n",
       " 'https://villageinfo.in/odisha.html',\n",
       " 'https://villageinfo.in/puducherry.html',\n",
       " 'https://villageinfo.in/punjab.html',\n",
       " 'https://villageinfo.in/rajasthan.html',\n",
       " 'https://villageinfo.in/sikkim.html',\n",
       " 'https://villageinfo.in/tamil-nadu.html',\n",
       " 'https://villageinfo.in/telangana.html',\n",
       " 'https://villageinfo.in/tripura.html',\n",
       " 'https://villageinfo.in/uttar-pradesh.html',\n",
       " 'https://villageinfo.in/uttarakhand.html',\n",
       " 'https://villageinfo.in/west-bengal.html']"
      ]
     },
     "execution_count": 21,
     "metadata": {},
     "output_type": "execute_result"
    }
   ],
   "source": [
    "states"
   ]
  },
  {
   "cell_type": "code",
   "execution_count": 27,
   "id": "a5554557",
   "metadata": {},
   "outputs": [
    {
     "data": {
      "text/plain": [
       "'andaman-&-nicobar-islands '"
      ]
     },
     "execution_count": 27,
     "metadata": {},
     "output_type": "execute_result"
    }
   ],
   "source": [
    "res = re.sub(r'https://villageinfo.in/','',states[0])\n",
    "res = re.sub(r'.html', ' ',res)\n",
    "res"
   ]
  },
  {
   "cell_type": "code",
   "execution_count": 50,
   "id": "db4a46a8",
   "metadata": {
    "scrolled": false
   },
   "outputs": [],
   "source": [
    "for st in states:\n",
    "    title = re.sub(r'https://villageinfo.in/','',st)\n",
    "    title = re.sub(r'.html', ' ',title)\n",
    "    title\n",
    "    url=st\n",
    "    headers = {\n",
    "        \"User-Agent\": \"Mozilla/5.0 (X11; Linux x86_64; rv:60.0) Gecko/20100101 Firefox/60.0\"\n",
    "    }\n",
    "    page = requests.get(url, headers=headers)\n",
    "    soup = BeautifulSoup(page.content, 'html.parser')\n",
    "    table=soup.find('table')\n",
    "    dist=table.find_all('a')\n",
    "    districts=[]\n",
    "    for link in dist:\n",
    "       districts.append('https://villageinfo.in/'+link['href'])\n",
    "    talukas=[]\n",
    "    for i in range(len(districts)):\n",
    "        url=districts[i];\n",
    "        page = requests.get(url, headers=headers)\n",
    "        soup = BeautifulSoup(page.content, 'html.parser')\n",
    "        table2=soup.find('table')\n",
    "        dist2=table2.find_all('a')\n",
    "        for link in dist2:\n",
    "           talukas.append('https://villageinfo.in'+link['href'])\n",
    "    villages=[]\n",
    "    for i in range(len(talukas)):\n",
    "        url=talukas[i];\n",
    "        page = requests.get(url, headers=headers)\n",
    "        soup = BeautifulSoup(page.content, 'html.parser')\n",
    "        table3=soup.find('table')\n",
    "        taluk=table3.find_all('a')\n",
    "        for link in taluk:\n",
    "            villages.append('https://villageinfo.in'+link['href'])\n",
    "    import re\n",
    "    data2=[];\n",
    "    for line in villages:\n",
    "        res = re.sub(r'https://villageinfo.in/', '',line)\n",
    "        res1 = re.sub(r'.html', ' ',res)\n",
    "        res2=res1.replace('/',' ')\n",
    "        res3=res2.split()\n",
    "        data2.append(res3)\n",
    "    df = pd.DataFrame(data2, columns =['States','District','Talukas','Village']) \n",
    "    df.to_excel('States\\%s.xlsx'%title,index=False)"
   ]
  }
 ],
 "metadata": {
  "kernelspec": {
   "display_name": "Python 3 (ipykernel)",
   "language": "python",
   "name": "python3"
  },
  "language_info": {
   "codemirror_mode": {
    "name": "ipython",
    "version": 3
   },
   "file_extension": ".py",
   "mimetype": "text/x-python",
   "name": "python",
   "nbconvert_exporter": "python",
   "pygments_lexer": "ipython3",
   "version": "3.9.12"
  }
 },
 "nbformat": 4,
 "nbformat_minor": 5
}
